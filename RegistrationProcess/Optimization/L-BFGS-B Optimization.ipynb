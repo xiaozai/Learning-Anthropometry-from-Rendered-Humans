{
 "cells": [
  {
   "cell_type": "code",
   "execution_count": 1,
   "metadata": {},
   "outputs": [],
   "source": [
    "import sys\n",
    "sys.path.append('/home/yan/Data2/NOMO_Project_P1/SMPL/SMPL_python_v.1.0.0/smpl/') # smpl path\n",
    "from smpl_webuser.serialization import load_model\n",
    "import numpy as np\n",
    "import random\n",
    "import math\n",
    "from scipy.optimize import minimize\n",
    "from scipy.optimize import fmin\n",
    "import scipy\n",
    "import scipy.spatial\n",
    "import pickle\n",
    "import os\n",
    "\n",
    "smpl_model = '/home/yan/Data2/NOMO_Project_P1/SMPL/SMPL_python_v.1.0.0/smpl/models/basicModel_f_lbs_10_207_0_v1.0.0.pkl'\n",
    "\n",
    "# zeros pose and shape, initialization\n",
    "poseParam = np.zeros(72)  # only the arm part\n",
    "shapeParam = np.zeros(10)\n",
    "deg2rad = 1.0 / 180 * math.pi\n",
    "poseParam[48:51] = np.multiply(deg2rad, [0, 0, -70])\n",
    "poseParam[51:54] = np.multiply(deg2rad, [0, 0, 70])\n",
    "# poseParam[54:57] = np.multiply(deg2rad, [0, -20, 0])\n",
    "# poseParam[57:60] = np.multiply(deg2rad, [0, 20, 0])\n",
    "\n",
    "# SMPL body model\n",
    "model = load_model(smpl_model)"
   ]
  },
  {
   "cell_type": "code",
   "execution_count": 2,
   "metadata": {},
   "outputs": [],
   "source": [
    "# Objective Function Optimization process\n",
    "def meanDist(bodyParam):\n",
    "    model.pose[:] = bodyParam[0:72]  # pose parameters\n",
    "    model.betas[:] = bodyParam[72:82]    # shape parameters\n",
    "    # vertices    :  model.r\n",
    "    modelV = np.array(model.r)\n",
    "    modelV = modelV - np.mean(modelV, 0)\n",
    "    minY = np.min(modelV, 0)[1]\n",
    "    modelV = modelV - [0, minY, 0]\n",
    "    \n",
    "    # find the closest points for modelV in the targetV, calculate the mean distance\n",
    "#     dist, indexes = scipy.spatial.cKDTree(targetV, leafsize=128).query(modelV)\n",
    "\n",
    "    dist = np.sqrt(np.sum((targetV-modelV)**2, 1)) * 1000\n",
    "    \n",
    "    return np.mean(dist)"
   ]
  },
  {
   "cell_type": "code",
   "execution_count": null,
   "metadata": {},
   "outputs": [],
   "source": [
    "dataDir = '/home/yan/Data2/3D_Body_Reconstruction/Dataset/scans/NonRigidICP_Registered_NOMO3D_Dataset2/female/'\n",
    "sample_list = os.listdir(dataDir)\n",
    "N_sample = len(sample_list)"
   ]
  },
  {
   "cell_type": "code",
   "execution_count": 5,
   "metadata": {},
   "outputs": [
    {
     "name": "stdout",
     "output_type": "stream",
     "text": [
      "2675\n"
     ]
    }
   ],
   "source": [
    "print N_sample"
   ]
  },
  {
   "cell_type": "code",
   "execution_count": 6,
   "metadata": {
    "scrolled": true
   },
   "outputs": [
    {
     "name": "stdout",
     "output_type": "stream",
     "text": [
      "the 2500-th object prcessed\n",
      "the 2510-th object prcessed\n",
      "the 2520-th object prcessed\n",
      "the 2530-th object prcessed\n",
      "the 2540-th object prcessed\n",
      "the 2550-th object prcessed\n",
      "the 2560-th object prcessed\n",
      "the 2570-th object prcessed\n",
      "the 2580-th object prcessed\n",
      "the 2590-th object prcessed\n",
      "the 2600-th object prcessed\n",
      "the 2610-th object prcessed\n",
      "the 2620-th object prcessed\n",
      "the 2630-th object prcessed\n",
      "the 2640-th object prcessed\n",
      "the 2650-th object prcessed\n",
      "the 2660-th object prcessed\n",
      "the 2670-th object prcessed\n"
     ]
    }
   ],
   "source": [
    "for idx in range(2500, N_sample):\n",
    "# for idx in range(0, N_sample):\n",
    "    \n",
    "    targetObj = dataDir + sample_list[idx]\n",
    "\n",
    "    # load target obj vertices\n",
    "    with open(targetObj) as f:\n",
    "        content = f.readlines()\n",
    "    content = [x.strip() for x in content]\n",
    "    targetV = []\n",
    "    targetF = []  # start from 1\n",
    "    for ii in range(0, len(content)):\n",
    "        x = content[ii]\n",
    "        C = x.split(\" \")\n",
    "        if C[0] == 'v':\n",
    "            CC = C[1:4]\n",
    "            v = [float(vv) for vv in CC]\n",
    "            targetV.append(v)\n",
    "        if C[0] == 'f':\n",
    "            CC = C[1:4]\n",
    "            f = [int(ff) for ff in CC]\n",
    "            targetF.append(f)\n",
    "\n",
    "    targetV = np.array(targetV)\n",
    "    targetV = targetV - np.mean(targetV, 0)\n",
    "    minY = np.min(targetV, 0)[1]\n",
    "    targetV = targetV - [0, minY, 0]\n",
    "    targetF = np.array(targetF)\n",
    "    \n",
    "#     # save the original mesh\n",
    "#     out_obj = '/home/yan/Data2/NOMO_Project_P2/Methods/ObjectiveFunctionOptimization/' \n",
    "#               + 'Optimization_Registration/NOMO3D_Dataset1/male/male_%04d.obj' % idx\n",
    "#     with open(out_obj, 'w') as fp:\n",
    "#         for v in targetV: # [m]\n",
    "#             fp.write( 'v %f %f %f\\n' % ( v[0], v[1], v[2]) )\n",
    "#         for f in targetF: # Faces are 1-based, not 0-based in obj files\n",
    "#             fp.write( 'f %d %d %d\\n' %  (f[0], f[1], f[2]) )\n",
    "            \n",
    "    # initialize the parameters\n",
    "    bodyParam0 = np.zeros(82)\n",
    "    bodyParam0[0:72] = poseParam\n",
    "    bodyParam0[72:82] = shapeParam\n",
    "#     res = minimize(meanDist, bodyParam0, method='nelder-mead', options={'xtol': 1e-8, 'maxiter': 82*500, 'disp': True})\n",
    "#     res = minimize(meanDist, bodyParam0, method='Powell', options={'xtol': 1e-8, 'maxiter': 82*500, 'disp': True})\n",
    "#     res = minimize(meanDist, bodyParam0, method='CG', options={'xtol': 1e-8, 'maxiter': 82*500, 'disp': True})\n",
    "#     res = minimize(meanDist, bodyParam0, method='BFGS', options={'xtol': 1e-8, 'maxiter': 82*500, 'disp': True})\n",
    "#     res = minimize(meanDist, bodyParam0, method='Newton-CG', options={'xtol': 1e-8, 'maxiter': 82*500, 'disp': True})\n",
    "    res = minimize(meanDist, bodyParam0, method='L-BFGS-B', options={'disp': True})\n",
    "    #     res = fmin(meanDist, bodyParam0, xtol=0.0001, ftol=0.0001, disp=1)\n",
    "#     # save results\n",
    "    out_res = '/home/yan/Data2/3D_Body_Reconstruction/Dataset/scans/Optimized_Registered_NOMO3D_Dataset2/Original_A_Posed/parameter_female/' + sample_list[idx][:-3] + 'pkl'\n",
    "    with open(out_res, 'w') as f:\n",
    "        pickle.dump(res.x, f)\n",
    "#         pickle.dump(res, f)\n",
    "        \n",
    "    # restore getting back the objects\n",
    "#     with open(out_res) as f:\n",
    "#         x = pickle.load(f)\n",
    "        \n",
    "    model.pose[:] = res.x[0:72]\n",
    "    model.betas[:] = res.x[72:82]\n",
    "#     model.pose[:] = res[0:72]\n",
    "#     model.betas[:] = res[72:82]\n",
    "    \n",
    "    registeredV = np.array(model.r)\n",
    "    registeredV = registeredV - np.mean(registeredV, 0)\n",
    "    minY = np.min(registeredV, 0)[1]\n",
    "    registeredV = registeredV - [0, minY, 0]\n",
    "    \n",
    "    out_mesh = '/home/yan/Data2/3D_Body_Reconstruction/Dataset/scans/Optimized_Registered_NOMO3D_Dataset2/Original_A_Posed/female/' + sample_list[idx]\n",
    "    with open(out_mesh, 'w') as fp:\n",
    "        for v in registeredV: # [m]\n",
    "            fp.write( 'v %f %f %f\\n' % ( v[0], v[1], v[2]) )\n",
    "        for f in model.f+1: # Faces are 1-based, not 0-based in obj files\n",
    "            fp.write( 'f %d %d %d\\n' %  (f[0], f[1], f[2]) )\n",
    "            \n",
    "    if idx % 10 == 0:\n",
    "        print \"the \" + str(idx) + \"-th object prcessed\""
   ]
  }
 ],
 "metadata": {
  "kernelspec": {
   "display_name": "Python 2",
   "language": "python",
   "name": "python2"
  },
  "language_info": {
   "codemirror_mode": {
    "name": "ipython",
    "version": 2
   },
   "file_extension": ".py",
   "mimetype": "text/x-python",
   "name": "python",
   "nbconvert_exporter": "python",
   "pygments_lexer": "ipython2",
   "version": "2.7.12"
  }
 },
 "nbformat": 4,
 "nbformat_minor": 2
}
