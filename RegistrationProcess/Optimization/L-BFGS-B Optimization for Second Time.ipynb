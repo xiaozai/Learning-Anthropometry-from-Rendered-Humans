{
 "cells": [
  {
   "cell_type": "code",
   "execution_count": 1,
   "metadata": {},
   "outputs": [],
   "source": [
    "import sys\n",
    "sys.path.append('/home/yan/Data2/NOMO_Project_P1/SMPL/SMPL_python_v.1.0.0/smpl/') # smpl path\n",
    "from smpl_webuser.serialization import load_model\n",
    "import numpy as np\n",
    "import random\n",
    "import math\n",
    "from scipy.optimize import minimize\n",
    "from scipy.optimize import fmin\n",
    "import scipy\n",
    "import scipy.spatial\n",
    "import pickle\n",
    "\n",
    "smpl_model = '/home/yan/Data2/NOMO_Project_P1/SMPL/SMPL_python_v.1.0.0/smpl/models/basicModel_m_lbs_10_207_0_v1.0.0.pkl'\n",
    "\n",
    "# SMPL body model\n",
    "model = load_model(smpl_model)"
   ]
  },
  {
   "cell_type": "code",
   "execution_count": 2,
   "metadata": {},
   "outputs": [],
   "source": [
    "# Objective Function Optimization process\n",
    "def meanDist(bodyParam):\n",
    "    model.pose[:] = bodyParam[0:72]      # pose parameters\n",
    "    model.betas[:] = bodyParam[72:82]    # shape parameters\n",
    "    # vertices    :  model.r\n",
    "    modelV = np.array(model.r)\n",
    "    modelV = modelV - np.mean(modelV, 0)\n",
    "    minY = np.min(modelV, 0)[1]\n",
    "    modelV = modelV - [0, minY, 0]\n",
    "    \n",
    "#     # find the closest points for modelV in the targetV, calculate the mean distance\n",
    "#     dist, indexes = scipy.spatial.cKDTree(targetV, leafsize=128).query(modelV)\n",
    "#     dist = dist * 1000\n",
    "\n",
    "    dist = np.sqrt(np.sum((targetV-modelV)**2, 1)) * 10000\n",
    "    \n",
    "    return np.mean(dist)"
   ]
  },
  {
   "cell_type": "code",
   "execution_count": 3,
   "metadata": {},
   "outputs": [
    {
     "name": "stderr",
     "output_type": "stream",
     "text": [
      "/home/yan/.local/lib/python2.7/site-packages/ipykernel_launcher.py:33: OptimizeWarning: Unknown solver options: gtol, ftol\n"
     ]
    },
    {
     "ename": "ValueError",
     "evalue": "Jacobian is required for Newton-CG method",
     "output_type": "error",
     "traceback": [
      "\u001b[0;31m---------------------------------------------------------------------------\u001b[0m",
      "\u001b[0;31mValueError\u001b[0m                                Traceback (most recent call last)",
      "\u001b[0;32m<ipython-input-3-69b5f5eacb0d>\u001b[0m in \u001b[0;36m<module>\u001b[0;34m()\u001b[0m\n\u001b[1;32m     31\u001b[0m \u001b[0;34m\u001b[0m\u001b[0m\n\u001b[1;32m     32\u001b[0m \u001b[0;31m#     res = minimize(meanDist, bodyParam0, method='L-BFGS-B', options={'disp': True, 'ftol': 1e-20, 'gtol': 1e-20, 'maxiter': 300})\u001b[0m\u001b[0;34m\u001b[0m\u001b[0;34m\u001b[0m\u001b[0m\n\u001b[0;32m---> 33\u001b[0;31m     \u001b[0mres\u001b[0m \u001b[0;34m=\u001b[0m \u001b[0mminimize\u001b[0m\u001b[0;34m(\u001b[0m\u001b[0mmeanDist\u001b[0m\u001b[0;34m,\u001b[0m \u001b[0mbodyParam0\u001b[0m\u001b[0;34m,\u001b[0m \u001b[0mmethod\u001b[0m\u001b[0;34m=\u001b[0m\u001b[0;34m'Newton-CG'\u001b[0m\u001b[0;34m,\u001b[0m \u001b[0moptions\u001b[0m\u001b[0;34m=\u001b[0m\u001b[0;34m{\u001b[0m\u001b[0;34m'disp'\u001b[0m\u001b[0;34m:\u001b[0m \u001b[0mTrue\u001b[0m\u001b[0;34m,\u001b[0m \u001b[0;34m'ftol'\u001b[0m\u001b[0;34m:\u001b[0m \u001b[0;36m1e-20\u001b[0m\u001b[0;34m,\u001b[0m \u001b[0;34m'gtol'\u001b[0m\u001b[0;34m:\u001b[0m \u001b[0;36m1e-20\u001b[0m\u001b[0;34m,\u001b[0m \u001b[0;34m'maxiter'\u001b[0m\u001b[0;34m:\u001b[0m \u001b[0;36m300\u001b[0m\u001b[0;34m}\u001b[0m\u001b[0;34m)\u001b[0m\u001b[0;34m\u001b[0m\u001b[0m\n\u001b[0m\u001b[1;32m     34\u001b[0m \u001b[0;34m\u001b[0m\u001b[0m\n\u001b[1;32m     35\u001b[0m     \u001b[0mout_res\u001b[0m \u001b[0;34m=\u001b[0m \u001b[0mdataDir\u001b[0m \u001b[0;34m+\u001b[0m \u001b[0;34m'Optimized_Registered_NOMO3D_Dataset1/Original_A_Posed/parameter_male05/male_%04d.pkl'\u001b[0m \u001b[0;34m%\u001b[0m \u001b[0midx\u001b[0m\u001b[0;34m\u001b[0m\u001b[0m\n",
      "\u001b[0;32m/usr/local/lib/python2.7/dist-packages/scipy/optimize/_minimize.pyc\u001b[0m in \u001b[0;36mminimize\u001b[0;34m(fun, x0, args, method, jac, hess, hessp, bounds, constraints, tol, callback, options)\u001b[0m\n\u001b[1;32m    482\u001b[0m     \u001b[0;32melif\u001b[0m \u001b[0mmeth\u001b[0m \u001b[0;34m==\u001b[0m \u001b[0;34m'newton-cg'\u001b[0m\u001b[0;34m:\u001b[0m\u001b[0;34m\u001b[0m\u001b[0m\n\u001b[1;32m    483\u001b[0m         return _minimize_newtoncg(fun, x0, args, jac, hess, hessp, callback,\n\u001b[0;32m--> 484\u001b[0;31m                                   **options)\n\u001b[0m\u001b[1;32m    485\u001b[0m     \u001b[0;32melif\u001b[0m \u001b[0mmeth\u001b[0m \u001b[0;34m==\u001b[0m \u001b[0;34m'l-bfgs-b'\u001b[0m\u001b[0;34m:\u001b[0m\u001b[0;34m\u001b[0m\u001b[0m\n\u001b[1;32m    486\u001b[0m         return _minimize_lbfgsb(fun, x0, args, jac, bounds,\n",
      "\u001b[0;32m/usr/local/lib/python2.7/dist-packages/scipy/optimize/optimize.pyc\u001b[0m in \u001b[0;36m_minimize_newtoncg\u001b[0;34m(fun, x0, args, jac, hess, hessp, callback, xtol, eps, maxiter, disp, return_all, **unknown_options)\u001b[0m\n\u001b[1;32m   1499\u001b[0m     \u001b[0m_check_unknown_options\u001b[0m\u001b[0;34m(\u001b[0m\u001b[0munknown_options\u001b[0m\u001b[0;34m)\u001b[0m\u001b[0;34m\u001b[0m\u001b[0m\n\u001b[1;32m   1500\u001b[0m     \u001b[0;32mif\u001b[0m \u001b[0mjac\u001b[0m \u001b[0;32mis\u001b[0m \u001b[0mNone\u001b[0m\u001b[0;34m:\u001b[0m\u001b[0;34m\u001b[0m\u001b[0m\n\u001b[0;32m-> 1501\u001b[0;31m         \u001b[0;32mraise\u001b[0m \u001b[0mValueError\u001b[0m\u001b[0;34m(\u001b[0m\u001b[0;34m'Jacobian is required for Newton-CG method'\u001b[0m\u001b[0;34m)\u001b[0m\u001b[0;34m\u001b[0m\u001b[0m\n\u001b[0m\u001b[1;32m   1502\u001b[0m     \u001b[0mf\u001b[0m \u001b[0;34m=\u001b[0m \u001b[0mfun\u001b[0m\u001b[0;34m\u001b[0m\u001b[0m\n\u001b[1;32m   1503\u001b[0m     \u001b[0mfprime\u001b[0m \u001b[0;34m=\u001b[0m \u001b[0mjac\u001b[0m\u001b[0;34m\u001b[0m\u001b[0m\n",
      "\u001b[0;31mValueError\u001b[0m: Jacobian is required for Newton-CG method"
     ]
    }
   ],
   "source": [
    "dataDir = '/home/yan/Data2/3D_Body_Reconstruction/Dataset/scans/'\n",
    "\n",
    "listRange = range(0,86) + range(87, 180)\n",
    "for idx in listRange:\n",
    "    \n",
    "    targetObj = dataDir + 'NonRigidICP_Registered_NOMO3D_Dataset1/male/male_%04d.obj' % idx\n",
    "\n",
    "    # load target obj vertices\n",
    "    with open(targetObj) as f:\n",
    "        content = f.readlines()\n",
    "    content = [x.strip() for x in content]\n",
    "    targetV = []\n",
    "\n",
    "    for ii in range(0, len(content)):\n",
    "        x = content[ii]\n",
    "        C = x.split(\" \")\n",
    "        if C[0] == 'v':\n",
    "            CC = C[1:4]\n",
    "            v = [float(vv) for vv in CC]\n",
    "            targetV.append(v)\n",
    "            \n",
    "    targetV = np.array(targetV)\n",
    "    targetV = targetV - np.mean(targetV, 0)\n",
    "    minY = np.min(targetV, 0)[1]\n",
    "    targetV = targetV - [0, minY, 0]\n",
    "    \n",
    "    # load the initial parameters\n",
    "    initParam = dataDir + 'Optimized_Registered_NOMO3D_Dataset1/Original_A_Posed/parameter_male03/male_%04d.pkl' % idx\n",
    "    with open(initParam, 'r') as f:\n",
    "        bodyParam0 = pickle.load(f)\n",
    "\n",
    "    res = minimize(meanDist, bodyParam0, method='L-BFGS-B', options={'disp': True, 'ftol': 1e-20, 'gtol': 1e-20, 'maxiter': 300})\n",
    "\n",
    "    out_res = dataDir + 'Optimized_Registered_NOMO3D_Dataset1/Original_A_Posed/parameter_male05/male_%04d.pkl' % idx\n",
    "    with open(out_res, 'w') as f:\n",
    "        pickle.dump(res.x, f)\n",
    "        \n",
    "    model.pose[:] = res.x[0:72]\n",
    "    model.betas[:] = res.x[72:82]\n",
    "    \n",
    "    registeredV = np.array(model.r)\n",
    "    registeredV = registeredV - np.mean(registeredV, 0)\n",
    "    minY = np.min(registeredV, 0)[1]\n",
    "    registeredV = registeredV - [0, minY, 0]\n",
    "    \n",
    "    out_mesh = dataDir + 'Optimized_Registered_NOMO3D_Dataset1/Original_A_Posed/male05/male_%04d.obj' % idx\n",
    "    with open(out_mesh, 'w') as fp:\n",
    "        for v in registeredV: # [m]\n",
    "            fp.write( 'v %f %f %f\\n' % ( v[0], v[1], v[2]) )\n",
    "        for f in model.f+1: # Faces are 1-based, not 0-based in obj files\n",
    "            fp.write( 'f %d %d %d\\n' %  (f[0], f[1], f[2]) )\n",
    "            \n",
    "    if idx % 10 == 0:\n",
    "        print \"the \" + str(idx) + \"-th object prcessed, final dist = \" + str(res.fun)\n",
    "        "
   ]
  },
  {
   "cell_type": "code",
   "execution_count": 4,
   "metadata": {},
   "outputs": [
    {
     "name": "stdout",
     "output_type": "stream",
     "text": [
      "(6890, 3)\n"
     ]
    }
   ],
   "source": [
    "print targetV.shape"
   ]
  }
 ],
 "metadata": {
  "kernelspec": {
   "display_name": "Python 2",
   "language": "python",
   "name": "python2"
  },
  "language_info": {
   "codemirror_mode": {
    "name": "ipython",
    "version": 2
   },
   "file_extension": ".py",
   "mimetype": "text/x-python",
   "name": "python",
   "nbconvert_exporter": "python",
   "pygments_lexer": "ipython2",
   "version": "2.7.12"
  }
 },
 "nbformat": 4,
 "nbformat_minor": 2
}
