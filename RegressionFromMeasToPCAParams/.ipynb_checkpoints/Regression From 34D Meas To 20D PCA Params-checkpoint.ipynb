{
 "cells": [
  {
   "cell_type": "code",
   "execution_count": 1,
   "metadata": {},
   "outputs": [],
   "source": [
    "import numpy as np\n",
    "import os\n",
    "from scipy.io import loadmat"
   ]
  },
  {
   "cell_type": "code",
   "execution_count": 2,
   "metadata": {},
   "outputs": [
    {
     "name": "stdout",
     "output_type": "stream",
     "text": [
      "Totally 10000 samples\n"
     ]
    }
   ],
   "source": [
    "gender  = 'female'\n",
    "dataDir = '/home/yan/Data2/narvi_folder/Pre-Process-CAESARfits/CAESAR-Fits01/%s-synthetic-samples/'%gender\n",
    "measDir = dataDir + '20D-PCA/meas/group01/34D-Meas/'\n",
    "pcaDir  = dataDir + '20D-PCA/mat/group01/'\n",
    "\n",
    "sampleList = os.listdir(pcaDir)\n",
    "nSamples = len(sampleList)\n",
    "print(\"Totally %d samples\"%nSamples)"
   ]
  },
  {
   "cell_type": "code",
   "execution_count": 3,
   "metadata": {},
   "outputs": [],
   "source": [
    "measArray = np.zeros((nSamples, 34), dtype=np.float32)\n",
    "pcaArray  = np.zeros((nSamples, 20), dtype=np.float32)\n",
    "\n",
    "for ii in range(nSamples):\n",
    "    pca  = loadmat(pcaDir+sampleList[ii])\n",
    "    meas = loadmat(measDir+sampleList[ii])\n",
    "    \n",
    "    pcaArray[ii, :]  = pca['score'][0]\n",
    "    \n",
    "    meas = meas['meas_34D']\n",
    "    \n",
    "    measArray[ii, 0]  = meas['circ_01'][0][0][0][0]\n",
    "    measArray[ii, 1]  = meas['circ_02'][0][0][0][0]\n",
    "    measArray[ii, 2]  = meas['circ_03'][0][0][0][0]\n",
    "    measArray[ii, 3]  = meas['circ_04'][0][0][0][0]\n",
    "    measArray[ii, 4]  = meas['circ_05'][0][0][0][0]\n",
    "    measArray[ii, 5]  = meas['circ_06'][0][0][0][0]\n",
    "    measArray[ii, 6]  = meas['circ_07'][0][0][0][0]\n",
    "    measArray[ii, 7]  = meas['circ_08'][0][0][0][0]\n",
    "    measArray[ii, 8]  = meas['circ_09'][0][0][0][0]\n",
    "    measArray[ii, 9]  = meas['circ_10'][0][0][0][0]\n",
    "    measArray[ii, 10] = meas['circ_11'][0][0][0][0]\n",
    "    measArray[ii, 11] = meas['circ_12'][0][0][0][0]\n",
    "    measArray[ii, 12] = meas['circ_13'][0][0][0][0]\n",
    "    measArray[ii, 13] = meas['circ_14'][0][0][0][0]\n",
    "    measArray[ii, 14] = meas['circ_15'][0][0][0][0]\n",
    "    measArray[ii, 15] = meas['circ_16'][0][0][0][0]\n",
    "    measArray[ii, 16] = meas['circ_17'][0][0][0][0]\n",
    "    measArray[ii, 17] = meas['circ_18'][0][0][0][0]\n",
    "    measArray[ii, 18] = meas['circ_19'][0][0][0][0]\n",
    "    measArray[ii, 19] = (meas['circ_20_left'][0][0][0][0] + meas['circ_20_right'][0][0][0][0])/2\n",
    "    measArray[ii, 20] = (meas['circ_21_left'][0][0][0][0] + meas['circ_21_right'][0][0][0][0])/2\n",
    "    measArray[ii, 21] = (meas['circ_22_left'][0][0][0][0] + meas['circ_22_right'][0][0][0][0])/2\n",
    "    measArray[ii, 22] = (meas['circ_23_left'][0][0][0][0] + meas['circ_23_right'][0][0][0][0])/2\n",
    "    measArray[ii, 23] = (meas['circ_24_left'][0][0][0][0] + meas['circ_24_right'][0][0][0][0])/2\n",
    "    measArray[ii, 24] = (meas['circ_25_left'][0][0][0][0] + meas['circ_25_right'][0][0][0][0])/2\n",
    "    measArray[ii, 25] = (meas['circ_26_left'][0][0][0][0] + meas['circ_26_right'][0][0][0][0])/2\n",
    "    measArray[ii, 26] = (meas['circ_27_left'][0][0][0][0] + meas['circ_26_right'][0][0][0][0])/2\n",
    "    measArray[ii, 27] = (meas['circ_28_left'][0][0][0][0] + meas['circ_27_right'][0][0][0][0])/2\n",
    "    measArray[ii, 28] = (meas['circ_29_left'][0][0][0][0] + meas['circ_28_right'][0][0][0][0])/2\n",
    "    measArray[ii, 29] = (meas['circ_30_left'][0][0][0][0] + meas['circ_29_right'][0][0][0][0])/2\n",
    "    measArray[ii, 30] = (meas['circ_31_left'][0][0][0][0] + meas['circ_30_right'][0][0][0][0])/2\n",
    "    measArray[ii, 31] = (meas['circ_32_left'][0][0][0][0] + meas['circ_31_right'][0][0][0][0])/2\n",
    "    measArray[ii, 32] = (meas['circ_33_left'][0][0][0][0] + meas['circ_32_right'][0][0][0][0])/2\n",
    "    measArray[ii, 33] = (meas['circ_34_left'][0][0][0][0] + meas['circ_33_right'][0][0][0][0])/2"
   ]
  },
  {
   "cell_type": "code",
   "execution_count": 5,
   "metadata": {},
   "outputs": [],
   "source": [
    "# mapping Linear\n",
    "from sklearn.linear_model import LinearRegression\n",
    "regressor = LinearRegression().fit(measArray, pcaArray)\n",
    "\n",
    "import pickle\n",
    "# save \n",
    "curDir = '/home/yan/Data2/narvi_folder/RegressionFromMeasToPCAParams/'\n",
    "pkl_filename = curDir+'CAESARFits01-male-34D-Meas-20D-Group01-PCA_LinearRegressionModel.pkl'\n",
    "with open(pkl_filename, 'wb') as file:\n",
    "    pickle.dump(regressor, file)\n",
    "# load\n",
    "# with open(pkl_filename, 'rb') as file:\n",
    "#     regressor = pickle.load(file)"
   ]
  },
  {
   "cell_type": "code",
   "execution_count": 7,
   "metadata": {},
   "outputs": [
    {
     "name": "stdout",
     "output_type": "stream",
     "text": [
      "(1, 34)\n",
      "[-0.13221312 -0.02276444  0.21514082 -0.01790142 -0.03848791 -0.03790677\n",
      "  0.39322567  0.02390766 -0.13644445 -0.00496078  0.11958027  0.22432446\n",
      "  0.23121476  0.1939869  -0.5070629  -0.18684053 -0.05582142  0.22763681\n",
      " -0.1315366   0.01626277]\n",
      "[-0.14187734  0.03881852  0.35580242 -0.05990003 -0.14553092 -0.06362362\n",
      "  0.36078805 -0.02931336 -0.16649324 -0.03028492  0.13708599  0.23818101\n",
      "  0.16840029  0.2198009  -0.695603   -0.1880851  -0.11308876  0.13574356\n",
      " -0.18064295  0.04921179]\n"
     ]
    }
   ],
   "source": [
    "# Prediction\n",
    "testMeas = measArray[0, :].reshape(1, -1)\n",
    "print(testMeas.shape)\n",
    "\n",
    "predPCA = regressor.predict(testMeas)\n",
    "predPCA = predPCA[0]\n",
    "print(predPCA)\n",
    "# gt\n",
    "print(pcaArray[0, :])"
   ]
  },
  {
   "cell_type": "code",
   "execution_count": null,
   "metadata": {},
   "outputs": [],
   "source": []
  }
 ],
 "metadata": {
  "kernelspec": {
   "display_name": "Python 3",
   "language": "python",
   "name": "python3"
  },
  "language_info": {
   "codemirror_mode": {
    "name": "ipython",
    "version": 3
   },
   "file_extension": ".py",
   "mimetype": "text/x-python",
   "name": "python",
   "nbconvert_exporter": "python",
   "pygments_lexer": "ipython3",
   "version": "3.6.9"
  }
 },
 "nbformat": 4,
 "nbformat_minor": 2
}
