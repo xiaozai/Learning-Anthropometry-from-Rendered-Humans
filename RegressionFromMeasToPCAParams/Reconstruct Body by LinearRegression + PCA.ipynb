{
 "cells": [
  {
   "cell_type": "code",
   "execution_count": 1,
   "metadata": {},
   "outputs": [
    {
     "name": "stdout",
     "output_type": "stream",
     "text": [
      "totally 730 samples\n"
     ]
    }
   ],
   "source": [
    "from sklearn.linear_model import LinearRegression\n",
    "import pickle\n",
    "import numpy as np\n",
    "import os\n",
    "from scipy.io import loadmat\n",
    "\n",
    "curDir = '/home/yan/Data2/narvi_folder/RegressionFromMeasToPCAParams/NOMOfits/male/34D-Meas-20D-PCA/'\n",
    "pkl_filename = curDir+'LinearRegression_model.pkl'\n",
    "\n",
    "# load\n",
    "with open(pkl_filename, 'rb') as file:\n",
    "    regressor = pickle.load(file)\n",
    "    \n",
    "predDir = '/home/yan/Data2/narvi_folder/NOMO-Networks/HKS-Net/UF-US-2-TF/exp/exp_train_on_PCANOMOfits/male/PartMeasParams/clearBG/result/prediction/'\n",
    "\n",
    "sampleList = os.listdir(predDir)\n",
    "nSamples = len(sampleList)\n",
    "print(\"totally %d samples\"%nSamples)"
   ]
  },
  {
   "cell_type": "code",
   "execution_count": 2,
   "metadata": {},
   "outputs": [
    {
     "name": "stdout",
     "output_type": "stream",
     "text": [
      "(20, 20670)\n",
      "(1, 20670)\n",
      "(13776, 3)\n"
     ]
    }
   ],
   "source": [
    "pcaDir = '/home/yan/Data2/narvi_folder/Datasets/PCAModel-synth-on-NOMOfits/male/ori_pca_space/'\n",
    "\n",
    "coeff = loadmat(pcaDir+'coeff.mat')\n",
    "mu    = loadmat(pcaDir+'mu.mat')\n",
    "face  = loadmat(pcaDir+'Face.mat')\n",
    "\n",
    "coeff = coeff['coeff']\n",
    "mu    = mu['mu']\n",
    "face  = face['F']\n",
    "\n",
    "\n",
    "coeff = np.asarray(coeff)\n",
    "coeff = coeff[:, 0:20]\n",
    "coeff = np.transpose(coeff)\n",
    "print coeff.shape\n",
    "\n",
    "mu = np.asarray(mu)\n",
    "print mu.shape\n",
    "\n",
    "face = np.asarray(face)\n",
    "print face.shape"
   ]
  },
  {
   "cell_type": "code",
   "execution_count": 3,
   "metadata": {},
   "outputs": [],
   "source": [
    "outDir = '/home/yan/Data2/narvi_folder/NOMO-Networks/HKS-Net/UF-US-2-TF/exp/exp_train_on_PCANOMOfits/male/PartMeasParams/clearBG/result/reconstruct_body_by_linearMapping/'\n",
    "\n",
    "for idx in range(nSamples):\n",
    "    sName = sampleList[idx][:-4]\n",
    "    \n",
    "    measPred = loadmat(predDir + sName + '.mat')\n",
    "    measPred = measPred['pred'][0]\n",
    "\n",
    "    pcaEst = regressor.predict(measPred.reshape(1, -1))\n",
    "    pcaEst = pcaEst[0].reshape(1, -1)\n",
    "\n",
    "    verts = np.matmul(pcaEst, coeff) + mu\n",
    "    verts = verts.reshape(6890, 3)\n",
    "    \n",
    "    outMesh = outDir + sName + '.obj'\n",
    "    with open(outMesh, 'w') as fp:\n",
    "        for v in verts:\n",
    "            fp.write('v %f %f %f\\n'%(v[0], v[1], v[2]))\n",
    "        for f in face:\n",
    "            fp.write('f %d %d %d\\n'%(f[0], f[1], f[2]))"
   ]
  }
 ],
 "metadata": {
  "kernelspec": {
   "display_name": "Python 3",
   "language": "python",
   "name": "python3"
  },
  "language_info": {
   "codemirror_mode": {
    "name": "ipython",
    "version": 3
   },
   "file_extension": ".py",
   "mimetype": "text/x-python",
   "name": "python",
   "nbconvert_exporter": "python",
   "pygments_lexer": "ipython3",
   "version": "3.6.9"
  }
 },
 "nbformat": 4,
 "nbformat_minor": 2
}
